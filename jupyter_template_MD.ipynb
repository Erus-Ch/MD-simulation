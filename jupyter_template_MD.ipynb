{
 "cells": [
  {
   "cell_type": "code",
   "execution_count": 1,
   "id": "ca13e929-e7c4-41c7-97a6-ecb5ce94971f",
   "metadata": {},
   "outputs": [],
   "source": [
    "import sys\n",
    "import os\n",
    "import urllib.request\n",
    "import pandas as pd\n",
    "import matplotlib\n",
    "import matplotlib.pyplot as plt\n",
    "import numpy as np\n",
    "import seaborn as sns"
   ]
  },
  {
   "cell_type": "code",
   "execution_count": 2,
   "id": "65a96e45-50d0-42da-9ff4-9945f1b9de83",
   "metadata": {},
   "outputs": [
    {
     "name": "stdout",
     "output_type": "stream",
     "text": [
      "program not found !!\n"
     ]
    },
    {
     "ename": "OSError",
     "evalue": "[Errno program not found :] ('gmx',)",
     "output_type": "error",
     "traceback": [
      "\u001b[1;31m---------------------------------------------------------------------------\u001b[0m",
      "\u001b[1;31mOSError\u001b[0m                                   Traceback (most recent call last)",
      "Cell \u001b[1;32mIn[2], line 1\u001b[0m\n\u001b[1;32m----> 1\u001b[0m \u001b[38;5;28;01mfrom\u001b[39;00m \u001b[38;5;21;01mgromacs_py\u001b[39;00m \u001b[38;5;28;01mimport\u001b[39;00m gmx\n",
      "File \u001b[1;32m~\\AppData\\Roaming\\Python\\Python310\\site-packages\\gromacs_py\\gmx\\__init__.py:11\u001b[0m\n\u001b[0;32m      8\u001b[0m \u001b[38;5;28;01mimport\u001b[39;00m \u001b[38;5;21;01mlogging\u001b[39;00m\n\u001b[0;32m     10\u001b[0m \u001b[38;5;28;01mfrom\u001b[39;00m \u001b[38;5;21;01m.\u001b[39;00m\u001b[38;5;21;01mitp\u001b[39;00m \u001b[38;5;28;01mimport\u001b[39;00m Itp\n\u001b[1;32m---> 11\u001b[0m \u001b[38;5;28;01mfrom\u001b[39;00m \u001b[38;5;21;01m.\u001b[39;00m\u001b[38;5;21;01mtopsys\u001b[39;00m \u001b[38;5;28;01mimport\u001b[39;00m TopSys\n\u001b[0;32m     12\u001b[0m \u001b[38;5;28;01mfrom\u001b[39;00m \u001b[38;5;21;01m.\u001b[39;00m\u001b[38;5;21;01mtopmol\u001b[39;00m \u001b[38;5;28;01mimport\u001b[39;00m TopMol\n\u001b[0;32m     13\u001b[0m \u001b[38;5;28;01mfrom\u001b[39;00m \u001b[38;5;21;01m.\u001b[39;00m\u001b[38;5;21;01mgmxsys\u001b[39;00m \u001b[38;5;28;01mimport\u001b[39;00m GmxSys, GROMACS_MOD_DIRNAME, GMX_BIN, gmx_version\n",
      "File \u001b[1;32m~\\AppData\\Roaming\\Python\\Python310\\site-packages\\gromacs_py\\gmx\\topsys.py:38\u001b[0m\n\u001b[0;32m     36\u001b[0m     gmx_version \u001b[38;5;241m=\u001b[39m \u001b[38;5;124m\"\u001b[39m\u001b[38;5;124m\"\u001b[39m\n\u001b[0;32m     37\u001b[0m \u001b[38;5;28;01melse\u001b[39;00m:\n\u001b[1;32m---> 38\u001b[0m     GMX_BIN \u001b[38;5;241m=\u001b[39m \u001b[43mos_command\u001b[49m\u001b[38;5;241;43m.\u001b[39;49m\u001b[43mwhich\u001b[49m\u001b[43m(\u001b[49m\u001b[38;5;124;43m'\u001b[39;49m\u001b[38;5;124;43mgmx\u001b[39;49m\u001b[38;5;124;43m'\u001b[39;49m\u001b[43m)\u001b[49m\n\u001b[0;32m     39\u001b[0m     gmx_version \u001b[38;5;241m=\u001b[39m os_command\u001b[38;5;241m.\u001b[39mget_gmx_version()\n\u001b[0;32m     40\u001b[0m     logger\u001b[38;5;241m.\u001b[39minfo(\u001b[38;5;124m\"\u001b[39m\u001b[38;5;124mGromacs version is \u001b[39m\u001b[38;5;132;01m{}\u001b[39;00m\u001b[38;5;124m\"\u001b[39m\u001b[38;5;241m.\u001b[39mformat(gmx_version))\n",
      "File \u001b[1;32m~\\AppData\\Roaming\\Python\\Python310\\site-packages\\os_command_py\\os_command.py:56\u001b[0m, in \u001b[0;36mwhich\u001b[1;34m(*program_list)\u001b[0m\n\u001b[0;32m     53\u001b[0m         \u001b[38;5;28;01mreturn\u001b[39;00m exe_path\n\u001b[0;32m     55\u001b[0m \u001b[38;5;28mprint\u001b[39m(\u001b[38;5;124m\"\u001b[39m\u001b[38;5;124mprogram not found !!\u001b[39m\u001b[38;5;124m\"\u001b[39m)\n\u001b[1;32m---> 56\u001b[0m \u001b[38;5;28;01mraise\u001b[39;00m \u001b[38;5;167;01mIOError\u001b[39;00m(\u001b[38;5;124m\"\u001b[39m\u001b[38;5;124mprogram not found :\u001b[39m\u001b[38;5;124m\"\u001b[39m, program_list)\n",
      "\u001b[1;31mOSError\u001b[0m: [Errno program not found :] ('gmx',)"
     ]
    }
   ],
   "source": [
    "from gromacs_py import gmx"
   ]
  },
  {
   "cell_type": "code",
   "execution_count": null,
   "id": "efd22b7e-9ac0-45f8-bbd8-4d05771500e2",
   "metadata": {},
   "outputs": [],
   "source": [
    "DATA_OUT = 'data_sim'\n",
    "PDB_ID = '1Y0M'\n",
    "\n",
    "# System Setup\n",
    "vsite='none'\n",
    "ion_C = 0.15\n",
    "sys_top_folder = os.path.join(DATA_OUT, 'sys_top')\n",
    "\n",
    "# Energy Minimisation\n",
    "em_folder = os.path.join(DATA_OUT, 'em')\n",
    "em_sys_folder = os.path.join(DATA_OUT, 'sys_em')\n",
    "em_step_number = 5000\n",
    "\n",
    "# Equillibration\n",
    "equi_folder = os.path.join(DATA_OUT, 'sys_equi')\n",
    "HA_time = 0.5\n",
    "CA_time = 1.0\n",
    "CA_LOW_time = 2.0\n",
    "\n",
    "dt_HA = 0.001\n",
    "dt = 0.002\n",
    "\n",
    "HA_step = 1000 * HA_time / dt_HA\n",
    "CA_step = 1000 * CA_time / dt\n",
    "CA_LOW_step = 1000 * CA_LOW_time / dt\n",
    "\n",
    "# Production\n",
    "prod_folder = os.path.join(DATA_OUT, 'sys_prod')\n",
    "prod_time = 10.0\n",
    "\n",
    "prod_step = 1000 * prod_time / dt"
   ]
  },
  {
   "cell_type": "code",
   "execution_count": null,
   "id": "30f796f1-6f07-484b-869b-bb02a13b8e59",
   "metadata": {},
   "outputs": [],
   "source": [
    "os.makedirs(DATA_OUT, exist_ok = True)\n",
    "\n",
    "raw_pdb = urllib.request.urlretrieve('http://files.rcsb.org/download/{}.pdb'.format(PDB_ID),\n",
    "                           '{}/{}.pdb'.format(DATA_OUT, PDB_ID))"
   ]
  },
  {
   "cell_type": "code",
   "execution_count": null,
   "id": "a44b46a8-94cc-4a21-b16e-1ac942e70ada",
   "metadata": {},
   "outputs": [],
   "source": [
    "md_sys = gmx.GmxSys(name=PDB_ID, coor_file=raw_pdb[0])\n",
    "md_sys.display()"
   ]
  },
  {
   "cell_type": "code",
   "execution_count": null,
   "id": "6b511a35-026a-4372-bf5e-ab5d0f3425fd",
   "metadata": {},
   "outputs": [],
   "source": [
    "md_sys.prepare_top(out_folder=os.path.join(DATA_OUT, 'prot_top'), vsite=vsite, ff='amber99sb-ildn')\n",
    "md_sys.create_box(dist=1.0, box_type=\"dodecahedron\", check_file_out=True)"
   ]
  },
  {
   "cell_type": "code",
   "execution_count": null,
   "id": "ec5b09bc-97a7-4fcf-9df1-de0f1f4a96b6",
   "metadata": {},
   "outputs": [],
   "source": [
    "view = md_sys.view_coor()\n",
    "view.add_representation(repr_type='licorice', selection='protein')\n",
    "view"
   ]
  },
  {
   "cell_type": "code",
   "execution_count": null,
   "id": "45b73b32-38df-4efe-95e4-518c00857544",
   "metadata": {},
   "outputs": [],
   "source": [
    "# Unecessary, only need to nglview online:\n",
    "IFrame(src='../_static/1Y0M.html', width=800, height=300)"
   ]
  },
  {
   "cell_type": "code",
   "execution_count": null,
   "id": "a254e1b6-3e7a-4579-b279-86500a163fdb",
   "metadata": {},
   "outputs": [],
   "source": [
    "md_sys.em_2_steps(out_folder=em_folder,\n",
    "                  no_constr_nsteps=em_step_number,\n",
    "                  constr_nsteps=em_step_number,\n",
    "                  posres=\"\",\n",
    "                  create_box_flag=False,\n",
    "                  emtol=0.1, nstxout=100)"
   ]
  },
  {
   "cell_type": "code",
   "execution_count": null,
   "id": "da3c6279-9a82-428d-a996-bf2dc0d07aed",
   "metadata": {},
   "outputs": [],
   "source": [
    "ener_pd_1 = md_sys.sys_history[-1].get_ener(selection_list=['Potential'])\n",
    "ener_pd_2 = md_sys.get_ener(selection_list=['Potential'])\n",
    "\n",
    "ener_pd_1['label'] = 'no bond constr'\n",
    "ener_pd_2['label'] = 'bond constr'\n",
    "\n",
    "ener_pd = pd.concat([ener_pd_1, ener_pd_2])\n",
    "\n",
    "ener_pd['Time (ps)'] = np.arange(len(ener_pd))"
   ]
  },
  {
   "cell_type": "code",
   "execution_count": null,
   "id": "9817f365-d7a5-4870-89b9-8c3cbb71d2eb",
   "metadata": {},
   "outputs": [],
   "source": [
    "ax = sns.lineplot(x=\"Time (ps)\", y=\"Potential\",\n",
    "                  hue=\"label\",\n",
    "                  data=ener_pd)\n",
    "ax.set_xlabel('step')\n",
    "ax.set_ylabel('energy (KJ/mol)')\n",
    "plt.grid()"
   ]
  },
  {
   "cell_type": "code",
   "execution_count": null,
   "id": "90a3851a-20c1-4c4c-87b3-948ca7234aa2",
   "metadata": {},
   "outputs": [],
   "source": [
    "md_sys.sys_history[-1].convert_trj()"
   ]
  },
  {
   "cell_type": "code",
   "execution_count": null,
   "id": "38ed78b9-60c1-4003-945f-6d6e23cdf8d8",
   "metadata": {},
   "outputs": [],
   "source": [
    "view = md_sys.sys_history[-1].view_traj()\n",
    "view.add_representation(repr_type='licorice', selection='protein')\n",
    "view.center()\n",
    "view"
   ]
  },
  {
   "cell_type": "code",
   "execution_count": null,
   "id": "9280747f-02c1-4537-a90e-9c66ea9b5319",
   "metadata": {},
   "outputs": [],
   "source": [
    "# Unecessary, only need to nglview online:\n",
    "IFrame(src='../_static/1Y0M_em_traj.html', width=800, height=300)"
   ]
  },
  {
   "cell_type": "code",
   "execution_count": null,
   "id": "e5d94f00-78d4-4d31-ad8e-38e23c2b58d5",
   "metadata": {},
   "outputs": [],
   "source": [
    "md_sys.solvate_add_ions(out_folder=sys_top_folder,\n",
    "                        ion_C=ion_C)\n",
    "md_sys.display()"
   ]
  },
  {
   "cell_type": "code",
   "execution_count": null,
   "id": "36139662-7ee9-42d3-ab50-6e497171dc36",
   "metadata": {},
   "outputs": [],
   "source": [
    "md_sys.em_equi_three_step_iter_error(out_folder=equi_folder,\n",
    "                                     no_constr_nsteps=em_step_number,\n",
    "                                     constr_nsteps=em_step_number,\n",
    "                                     nsteps_HA=HA_step,\n",
    "                                     nsteps_CA=CA_step,\n",
    "                                     nsteps_CA_LOW=CA_LOW_step,\n",
    "                                     dt=dt, dt_HA=dt_HA,\n",
    "                                     vsite=vsite, maxwarn=1)"
   ]
  },
  {
   "cell_type": "code",
   "execution_count": null,
   "id": "47cb148f-5617-443b-ae3a-7d0df53b762d",
   "metadata": {},
   "outputs": [],
   "source": [
    "ener_pd_1 = md_sys.sys_history[-2].get_ener(selection_list=['Volume'])\n",
    "ener_pd_2 = md_sys.sys_history[-1].get_ener(selection_list=['Volume'])\n",
    "ener_pd_3 = md_sys.get_ener(selection_list=['Volume'])\n",
    "\n",
    "ener_pd_1['label'] = 'HA_constr'\n",
    "ener_pd_2['label'] = 'CA_constr'\n",
    "ener_pd_2['Time (ps)'] = ener_pd_2['Time (ps)'] + ener_pd_1['Time (ps)'].max()\n",
    "ener_pd_3['label'] = 'CA_LOW_constr'\n",
    "ener_pd_3['Time (ps)'] = ener_pd_3['Time (ps)'] + ener_pd_2['Time (ps)'].max()\n",
    "\n",
    "ener_pd = pd.concat([ener_pd_1, ener_pd_2, ener_pd_3])"
   ]
  },
  {
   "cell_type": "code",
   "execution_count": null,
   "id": "5c304070-77e5-475e-b954-b4e9b2146992",
   "metadata": {},
   "outputs": [],
   "source": [
    "ax = sns.lineplot(x=\"Time (ps)\", y=\"Volume\",\n",
    "                  hue=\"label\",\n",
    "                  data=ener_pd)\n",
    "\n",
    "ax.set_ylabel('Volume ($Å^3$)')\n",
    "plt.grid()"
   ]
  },
  {
   "cell_type": "code",
   "execution_count": null,
   "id": "68e66484-9dac-4b6b-bd4a-10c4eca70dd1",
   "metadata": {},
   "outputs": [],
   "source": [
    "# Define reference structure for RMSD calculation\n",
    "ref_sys =  md_sys.sys_history[1]\n",
    "\n",
    "rmsd_pd_1 = md_sys.sys_history[-2].get_rmsd(['C-alpha', 'Protein'], ref_sys=ref_sys)\n",
    "rmsd_pd_2 = md_sys.sys_history[-1].get_rmsd(['C-alpha', 'Protein'], ref_sys=ref_sys)\n",
    "rmsd_pd_3 = md_sys.get_rmsd(['C-alpha', 'Protein'], ref_sys=ref_sys)\n",
    "\n",
    "\n",
    "rmsd_pd_1['label'] = 'HA_constr'\n",
    "rmsd_pd_2['label'] = 'CA_constr'\n",
    "rmsd_pd_2['time'] = rmsd_pd_2['time'] + rmsd_pd_1['time'].max()\n",
    "rmsd_pd_3['label'] = 'CA_LOW_constr'\n",
    "rmsd_pd_3['time'] = rmsd_pd_3['time'] + rmsd_pd_2['time'].max()\n",
    "\n",
    "rmsd_pd = pd.concat([rmsd_pd_1, rmsd_pd_2, rmsd_pd_3])"
   ]
  },
  {
   "cell_type": "code",
   "execution_count": null,
   "id": "0d598cce-c2c6-4c92-9edb-4ee899dcbd2d",
   "metadata": {},
   "outputs": [],
   "source": [
    "ax = sns.lineplot(x=\"time\", y=\"Protein\",\n",
    "                  hue=\"label\",\n",
    "                  data=rmsd_pd)\n",
    "\n",
    "ax.set_ylabel('RMSD (nm)')\n",
    "ax.set_xlabel('Time (ps)')\n",
    "plt.grid()"
   ]
  },
  {
   "cell_type": "code",
   "execution_count": null,
   "id": "23c853b0-bc0e-4418-8dab-3e349221fd8e",
   "metadata": {},
   "outputs": [],
   "source": [
    "md_sys.production(out_folder=prod_folder,\n",
    "                  nsteps=prod_step,\n",
    "                  dt=dt, vsite=vsite, maxwarn=1)"
   ]
  },
  {
   "cell_type": "code",
   "execution_count": null,
   "id": "5cdc8d97-b094-419b-b157-635a422bfbde",
   "metadata": {},
   "outputs": [],
   "source": [
    "# Center trajectory\n",
    "md_sys.center_mol_box(traj=True)"
   ]
  },
  {
   "cell_type": "code",
   "execution_count": null,
   "id": "631a8802-6f5e-41e5-9fb3-9a94c64b69bd",
   "metadata": {},
   "outputs": [],
   "source": [
    "rmsd_prod_pd = md_sys.get_rmsd(['C-alpha', 'Protein'], ref_sys=ref_sys)\n",
    "rmsd_prod_pd['label'] = 'Production'\n",
    "\n",
    "rmsd_prod_pd['time'] = rmsd_prod_pd['time'] + rmsd_pd['time'].max()\n",
    "rmsd_all_pd = pd.concat([rmsd_pd, rmsd_prod_pd])"
   ]
  },
  {
   "cell_type": "code",
   "execution_count": null,
   "id": "b542b2bf-5e04-4859-bdd5-0928bac56f6c",
   "metadata": {},
   "outputs": [],
   "source": [
    "ax = sns.lineplot(x=\"time\", y=\"Protein\",\n",
    "                  hue=\"label\",\n",
    "                  data=rmsd_all_pd)\n",
    "ax.set_ylabel('RMSD (nm)')\n",
    "ax.set_xlabel('Time (ps)')\n",
    "plt.grid()"
   ]
  },
  {
   "cell_type": "code",
   "execution_count": null,
   "id": "4e5f2974-c24b-45ca-9d88-0076bccf8a1e",
   "metadata": {},
   "outputs": [],
   "source": [
    "# Align the protein coordinates\n",
    "md_sys.convert_trj(select='Protein\\nSystem\\n', fit='rot+trans', pbc='none', skip='10')"
   ]
  },
  {
   "cell_type": "code",
   "execution_count": null,
   "id": "b7f61be2-6091-4de5-bd83-4edcde44a5b7",
   "metadata": {},
   "outputs": [],
   "source": [
    "view = md_sys.view_traj()\n",
    "view.add_representation(repr_type='licorice', selection='protein')\n",
    "view.center(selection='CA')\n",
    "view\n"
   ]
  },
  {
   "cell_type": "code",
   "execution_count": null,
   "id": "4e13dfc9-14e1-435a-8473-f5e01f5f2c7e",
   "metadata": {},
   "outputs": [],
   "source": [
    "# Unecessary, only need to nglview online:\n",
    "IFrame(src='../_static/1Y0M_prod_traj.html', width=800, height=300)"
   ]
  }
 ],
 "metadata": {
  "kernelspec": {
   "display_name": "Python 3 (ipykernel)",
   "language": "python",
   "name": "python3"
  },
  "language_info": {
   "codemirror_mode": {
    "name": "ipython",
    "version": 3
   },
   "file_extension": ".py",
   "mimetype": "text/x-python",
   "name": "python",
   "nbconvert_exporter": "python",
   "pygments_lexer": "ipython3",
   "version": "3.10.11"
  }
 },
 "nbformat": 4,
 "nbformat_minor": 5
}
